{
 "cells": [
  {
   "cell_type": "markdown",
   "metadata": {},
   "source": [
    "# <center>Indoorway - zadanie rekrutacyjne</center>\n",
    "***"
   ]
  },
  {
   "cell_type": "markdown",
   "metadata": {},
   "source": [
    "<img src=\"Task_pic_1.png\">"
   ]
  },
  {
   "cell_type": "markdown",
   "metadata": {},
   "source": [
    "<img src=\"Task_pic_2.png\">"
   ]
  },
  {
   "cell_type": "markdown",
   "metadata": {},
   "source": [
    "Dołączenie modułów do obsługi matematycznej, graficznej i interaktywnej wizualizacji."
   ]
  },
  {
   "cell_type": "code",
   "execution_count": 1,
   "metadata": {},
   "outputs": [],
   "source": [
    "import numpy as np\n",
    "from scipy.optimize import least_squares\n",
    "\n",
    "import matplotlib.pyplot as plt\n",
    "from matplotlib.collections import LineCollection\n",
    "\n",
    "from ipywidgets import interactive\n",
    "import ipywidgets as widgets\n",
    "from IPython.display import display\n",
    "\n",
    "%matplotlib inline"
   ]
  },
  {
   "cell_type": "markdown",
   "metadata": {},
   "source": [
    "Załadowanie pliku z danymi i zapisanie jego linii do listy"
   ]
  },
  {
   "cell_type": "code",
   "execution_count": 2,
   "metadata": {},
   "outputs": [],
   "source": [
    "with open(\"python_zadanie_2.txt\", \"r\") as task_file:\n",
    "    task_file_lines = task_file.readlines()"
   ]
  },
  {
   "cell_type": "markdown",
   "metadata": {},
   "source": [
    "Stworzenie słowników do wczytania i zapisania odpowiednich danych o __anchorach__:"
   ]
  },
  {
   "cell_type": "code",
   "execution_count": 3,
   "metadata": {},
   "outputs": [
    {
     "name": "stdout",
     "output_type": "stream",
     "text": [
      "{'anchor_id': [0, 1, 2, 3], 'anchor_xy': [(1.0, 1.0), (-1.0, 1.0), (-1.0, -1.0), (1.0, -1.0)]}\n"
     ]
    }
   ],
   "source": [
    "# number of blank lines in source file between title of data section and data\n",
    "blank_lines_section = 6\n",
    "\n",
    "# dictionary for anchors data\n",
    "anchors_data = {'anchor_id': [], 'anchor_xy': []}\n",
    "blank_count = 0\n",
    "\n",
    "for line in task_file_lines[task_file_lines.index('1. Położenia anchorów\\n') + blank_lines_section:]:\n",
    "    if line != '\\n':\n",
    "        str_line = line.strip('\\n').split(' ')\n",
    "        num_line = [float(i) for i in str_line]\n",
    "        num_line[0] = int(num_line[0])\n",
    "        # add anchor id\n",
    "        anchors_data['anchor_id'].append(num_line[0])\n",
    "        # add anchor position coordinates\n",
    "        anchors_data['anchor_xy'].append(tuple(num_line[1:3]))\n",
    "        blank_count = 0\n",
    "    else:\n",
    "        # handle one blank line spacing between data lines\n",
    "        blank_count += 1\n",
    "    if blank_count > 1:\n",
    "        break\n",
    "        \n",
    "print(anchors_data)"
   ]
  },
  {
   "cell_type": "markdown",
   "metadata": {},
   "source": [
    "Stworzenie słowników do wczytania i zapisania odpowiednich danych o **tagach**:"
   ]
  },
  {
   "cell_type": "code",
   "execution_count": 4,
   "metadata": {},
   "outputs": [
    {
     "name": "stdout",
     "output_type": "stream",
     "text": [
      "ID tagów zgodnie z kolejnością w zapisie w słowniku\n",
      "[38, 7, 18, 35, 1, 11, 24, 41, 14, 43, 2, 8, 13, 6, 34, 39, 17, 46, 44, 0, 10, 47, 36, 26, 25, 31, 21, 5, 19, 27, 12, 32, 23, 48, 37, 15, 40, 29, 16, 45, 22, 4, 9, 49, 33, 20, 28, 3, 30]\n"
     ]
    }
   ],
   "source": [
    "# dictionary for tags data\n",
    "tags_data = {'tag_id': [], 'dist_to_anchors': [], 'tag_xy': []}\n",
    "\n",
    "blank_count = 0\n",
    "for line in task_file_lines[task_file_lines.index('2. Pomiary odległości obiektów od anchorów\\n') + blank_lines_section:]:\n",
    "    if line != '\\n':\n",
    "        str_line = line.strip('\\n').split(' ')\n",
    "        num_line = [float(i) for i in str_line]\n",
    "        num_line[0] = int(num_line[0])\n",
    "        # if no data about this tag has been already saved\n",
    "        if num_line[0] not in tags_data['tag_id']:\n",
    "            tags_data['tag_id'].append(num_line[0])\n",
    "            tags_data['dist_to_anchors'].append([num_line[1:]])\n",
    "        else:\n",
    "            index = tags_data['tag_id'].index(num_line[0])\n",
    "            tags_data['dist_to_anchors'][index].append(num_line[1:])\n",
    "\n",
    "        blank_count = 0\n",
    "    else:\n",
    "        # handle one blank line spacing between data lines\n",
    "        blank_count += 1\n",
    "    if blank_count > 1:\n",
    "        break\n",
    "print(\"ID tagów zgodnie z kolejnością w zapisie w słowniku\") \n",
    "print(tags_data['tag_id'])"
   ]
  },
  {
   "cell_type": "markdown",
   "metadata": {},
   "source": [
    "Posortowanie tagow wzgledem ich id (rosnąco):"
   ]
  },
  {
   "cell_type": "code",
   "execution_count": 5,
   "metadata": {},
   "outputs": [
    {
     "name": "stdout",
     "output_type": "stream",
     "text": [
      "ID tagów zgodnie z kolejnością w zapisie w słowniku po sortowaniu\n",
      "[0, 1, 2, 3, 4, 5, 6, 7, 8, 9, 10, 11, 12, 13, 14, 15, 16, 17, 18, 19, 20, 21, 22, 23, 24, 25, 26, 27, 28, 29, 30, 31, 32, 33, 34, 35, 36, 37, 38, 39, 40, 41, 43, 44, 45, 46, 47, 48, 49]\n"
     ]
    }
   ],
   "source": [
    "# sort tags_data by tag_id\n",
    "tags_data['tag_id'], tags_data['dist_to_anchors'] = zip(*sorted(zip(tags_data['tag_id'], tags_data['dist_to_anchors'])))\n",
    "\n",
    "tags_data['tag_id'] = list(tags_data['tag_id'])\n",
    "tags_data['dist_to_anchors'] = list(tags_data['dist_to_anchors'])\n",
    "\n",
    "print(\"ID tagów zgodnie z kolejnością w zapisie w słowniku po sortowaniu\") \n",
    "print(tags_data['tag_id'])"
   ]
  },
  {
   "cell_type": "markdown",
   "metadata": {},
   "source": [
    "Stworzenie słowników do wczytania i zapisania odpowiednich danych o **wielokątach**:"
   ]
  },
  {
   "cell_type": "code",
   "execution_count": 6,
   "metadata": {},
   "outputs": [
    {
     "name": "stdout",
     "output_type": "stream",
     "text": [
      "{'poly_id': [0, 1, 2, 3, 4], 'nodes_id': [[4, 8, 18, 20, 5, 0, 4], [13, 16, 6, 11, 13], [3, 1, 10, 9, 2, 15, 3], [13, 12, 16, 13], [13, 11, 17, 14, 7, 13]], 'contained_tags_ids': [], 'contained_tags_spec': []}\n"
     ]
    }
   ],
   "source": [
    "# dictionary for polygons data\n",
    "polys_data = {'poly_id': [], 'nodes_id': [], 'contained_tags_ids': [], 'contained_tags_spec': []}\n",
    "\n",
    "blank_count = 0\n",
    "\n",
    "for line in task_file_lines[task_file_lines.index('3. Opis wielokątów\\n') + blank_lines_section:]:\n",
    "    if line != '\\n':\n",
    "        str_line = line.strip('\\n').replace('[', '').replace(']', '').split(' ')\n",
    "        num_line = [int(i) for i in str_line]\n",
    "        # add polygon id\n",
    "        polys_data['poly_id'].append(num_line[0])\n",
    "        # add polygon position coordinates\n",
    "        polys_data['nodes_id'].append(num_line[1:])\n",
    "        blank_count = 0\n",
    "    else:\n",
    "        # handle one blank line spacing between data lines\n",
    "        blank_count += 1\n",
    "    if blank_count > 1:\n",
    "        break\n",
    "\n",
    "print(polys_data)"
   ]
  },
  {
   "cell_type": "markdown",
   "metadata": {},
   "source": [
    "Stworzenie słowników do wczytania i zapisania odpowiednich danych o **wierzchołkach wielokątów**:"
   ]
  },
  {
   "cell_type": "code",
   "execution_count": 7,
   "metadata": {},
   "outputs": [
    {
     "name": "stdout",
     "output_type": "stream",
     "text": [
      "{'node_id': [0, 1, 2, 3, 4, 5, 6, 7, 8, 9, 10, 11, 12, 13, 14, 15, 16, 17, 18, 19, 20], 'node_xy': [(0.9, 0.4), (-0.2, -0.3), (-0.6, -0.7), (-0.2, -0.4), (0.33, 0.7), (0.65, 0.0), (-1.0, -1.0), (0.0, 1.0), (0.1, 0.9), (-0.6, -0.4), (-0.4, -0.2), (-1.0, 0.0), (1.0, 0.0), (0.0, 0.0), (-0.5, 0.5), (-0.4, -0.8), (0.0, -1.0), (-1.0, 1.0), (0.3, 0.65), (1.0, 1.0), (0.0, 0.1)]}\n"
     ]
    }
   ],
   "source": [
    "# dictionary for polygons' nodes data\n",
    "nodes_data = {'node_id': [], 'node_xy': []}\n",
    "\n",
    "blank_count = 0\n",
    "\n",
    "for line in task_file_lines[task_file_lines.index('4. Położenia wierzchołków wielokątów\\n') + blank_lines_section:]:\n",
    "    if line != '\\n':\n",
    "        str_line = line.strip('\\n').split(' ')\n",
    "        num_line = [float(i) for i in str_line]\n",
    "        num_line[0] = int(num_line[0])\n",
    "        nodes_data['node_id'].append(num_line[0])\n",
    "        nodes_data['node_xy'].append(tuple(num_line[1:3]))\n",
    "        blank_count = 0\n",
    "    else:\n",
    "        blank_count += 1\n",
    "    if blank_count > 1:\n",
    "        break\n",
    "\n",
    "print(nodes_data)\n",
    "\n",
    "# delete list containing all of the source file lines\n",
    "del task_file_lines"
   ]
  },
  {
   "cell_type": "markdown",
   "metadata": {},
   "source": [
    "## Obliczenie położenia tagów na podstawie ich odległości od anchorów"
   ]
  },
  {
   "cell_type": "markdown",
   "metadata": {},
   "source": [
    "Obliczenia te zrealizujemy tworząc uklad czterech równań nieliniowych- (równań okręgów o środku w danym anchorze i promieniu równym odległości anchora od taga) - o dwoch niewiadomych (współrzędnych x, y taga). Układ ten będzie nadokreślony (więcej równań niż niewiadomych) - nie będzie miał jednego jednoznacznego rozwiązania. <br>\n",
    "Aby uzyskać satysfakcjonujące - optymalne rozwiązanie poslużymy się algorytmem Levenberga-Marquardta (służącego do optymalizacji nieliniowej). Użyjemy go stosując funkcję *least_squares* z modułu *scipy.optimize*."
   ]
  },
  {
   "cell_type": "code",
   "execution_count": 8,
   "metadata": {},
   "outputs": [],
   "source": [
    "def equations(X_vec, **kwargs):\n",
    "    \"\"\"\n",
    "    Calculate all equations for equations system to solve\n",
    "    \n",
    "    :param X_vec: vector of arguments (solutions)\n",
    "    :param kwargs: anchors positions - 'anchors' : [(x0, y0),..., (xn, yn)]\n",
    "    and distances to anchors - 'distances' : [d0, d1, d2, d3] in dictionary\n",
    "    :return: F: vector of calculated values of equations for given X_vec arguments\n",
    "    \"\"\"\n",
    "    \n",
    "    F = []\n",
    "    for i in range(4):\n",
    "        # append circle equation: (x_circ - x)**2 + (y_circ - y)**2 - r_circ**2 = 0\n",
    "        F.append((kwargs['anchors'][i][0] - X_vec[0]) ** 2 + (kwargs['anchors'][i][1] - X_vec[1]) ** 2\n",
    "                 - kwargs['distances'][i] ** 2)\n",
    "    return np.array(F)\n",
    "\n",
    "def getTagPosition(anchors, distances):\n",
    "    \"\"\"\n",
    "    Calculate tag position using least_squares method (Levenberg-Marquardt algorithm)\n",
    "    \n",
    "    :param anchors: list of all anchors coordinates: [(x0, y0),...(xn, yn)]\n",
    "    :param distances: list of distance to all anchors: [d0, d1, d2, d3]\n",
    "    :return: calculated tag position in tuple: (x_tag, y_tag)\n",
    "    \"\"\"\n",
    "    \n",
    "    # define initial solution approximation which will be beginning of algorithm iterations\n",
    "    # we set it as point (0, 0) because for our data it's generally the middle one\n",
    "    X_vec_0 = np.array([0, 0])\n",
    "    tag_data = {'anchors': anchors, 'distances': distances}\n",
    "    result = least_squares(equations, X_vec_0, method='lm', kwargs=tag_data)\n",
    "    return tuple(result.x)"
   ]
  },
  {
   "cell_type": "markdown",
   "metadata": {},
   "source": [
    "Przeprowadzenie obliczeń i zapisanie współrzędnych wszystkich tagów i ich punktów"
   ]
  },
  {
   "cell_type": "code",
   "execution_count": 9,
   "metadata": {},
   "outputs": [],
   "source": [
    "for tag_counter, tag_distances in enumerate(tags_data['dist_to_anchors']):\n",
    "    for tag_point_counter, tag_dist in enumerate(tag_distances):\n",
    "        # if it's the first point of tag\n",
    "        if tag_point_counter == 0:\n",
    "            tags_data['tag_xy'].append([getTagPosition(anchors_data['anchor_xy'], tag_dist)])\n",
    "        else:\n",
    "            tags_data['tag_xy'][tag_counter].append(getTagPosition(anchors_data['anchor_xy'], tag_dist))"
   ]
  },
  {
   "cell_type": "markdown",
   "metadata": {},
   "source": [
    "**Interaktywna wizualizacja sposobu wyliczania położeń tagów.** <br>\n",
    "Okręgi symbolizują zbiory rozwiązań każdego z czterech równań w układzie. Punkt jest optymalnie dobranym położeniem jak najlepiej spełniającym wszystkie równania.\n",
    "    "
   ]
  },
  {
   "cell_type": "code",
   "execution_count": 10,
   "metadata": {},
   "outputs": [
    {
     "data": {
      "application/vnd.jupyter.widget-view+json": {
       "model_id": "8027a14f43e24014b8264b8f170825a4",
       "version_major": 2,
       "version_minor": 0
      },
      "text/plain": [
       "interactive(children=(IntSlider(value=0, description='tag_id', max=49), IntSlider(value=0, description='point_…"
      ]
     },
     "metadata": {},
     "output_type": "display_data"
    }
   ],
   "source": [
    "# limits of x, y axes used to print future plots\n",
    "plot_limits = [-1.25, 1.25]\n",
    "plot_size = [12, 12]\n",
    "\n",
    "def displayTagPositionCalc(tag_id, point_num):\n",
    "    \"\"\"\n",
    "    Function displaying tag and circles symbolising distances from anchors,\n",
    "    called with change of interactive slider\n",
    "    \"\"\"\n",
    "    \n",
    "    fig, ax = plt.subplots()\n",
    "    ax.figure.set_size_inches(*plot_size)\n",
    "    # we set bigger limits because circles will exceed normal limits\n",
    "    ax.set_xlim(-3, 3)\n",
    "    ax.set_ylim(-3, 3)\n",
    "    # draw anchors points\n",
    "    ax.scatter(*zip(*anchors_data['anchor_xy']), color='r')\n",
    "    # annotate anchors with their ids\n",
    "    for anchor_counter, anchor_position in enumerate(anchors_data['anchor_xy']):\n",
    "        ax.annotate(anchors_data['anchor_id'][anchor_counter], anchor_position)\n",
    "    \n",
    "    # if selected with slider tag and tag point values are valid\n",
    "    if tag_id in tags_data['tag_id'] and point_num < len(tags_data['tag_xy'][tags_data['tag_id'].index(tag_id)]):\n",
    "        # draw this tag point\n",
    "        plt.scatter(*tags_data['tag_xy'][tags_data['tag_id'].index(tag_id)][point_num], s=40)\n",
    "        # draw circles symbolising distance from anchors to tag point\n",
    "        for i in range(len(anchors_data['anchor_id'])):\n",
    "            # print data over the plot\n",
    "            print(\"Odległość od {}. anchora: {}\".format(i, tags_data['dist_to_anchors']\n",
    "                                                    [tags_data['tag_id'].index(tag_id)][point_num][i]))\n",
    "            # add circle to the plot\n",
    "            ax.add_artist(plt.Circle(anchors_data['anchor_xy'][i],\n",
    "                                     tags_data['dist_to_anchors'][tags_data['tag_id'].index(tag_id)][point_num][i],\n",
    "                                     fill=False, color='r'))\n",
    "        print(\"\\nPołożenie {}_{} taga: {}\".format(tag_id, point_num,\n",
    "                                                  tags_data['tag_xy'][tags_data['tag_id'].index(tag_id)][point_num]))\n",
    "    plt.show()\n",
    "    \n",
    "    \n",
    "# create interactive slider\n",
    "disp_tag_posit_calc = interactive(displayTagPositionCalc, \n",
    "                                  tag_id=widgets.IntSlider(min=0, max=max(tags_data['tag_id']), step=1, value=0),\n",
    "                                  point_num=widgets.IntSlider(min=0, max=max(tags_data['tag_id']), step=1, value=0))\n",
    "# diplay interactive slider\n",
    "display(disp_tag_posit_calc)"
   ]
  },
  {
   "cell_type": "markdown",
   "metadata": {},
   "source": [
    "**Interaktywna wizualizacja położenia tagów** <br><br>\n",
    "tag_id odpowiada za wyświetlanie danego taga <br>\n",
    "point_num odpowiada za wyświetalnie danego wystąpienia danego taga <br>\n",
    "(wartość -1 przy tag_id pokazuje wszystkie dane)"
   ]
  },
  {
   "cell_type": "code",
   "execution_count": 11,
   "metadata": {},
   "outputs": [
    {
     "data": {
      "application/vnd.jupyter.widget-view+json": {
       "model_id": "5d3164b42fdb4972a46772ff757250ee",
       "version_major": 2,
       "version_minor": 0
      },
      "text/plain": [
       "interactive(children=(IntSlider(value=0, description='tag_id', max=49, min=-1), IntSlider(value=-1, descriptio…"
      ]
     },
     "metadata": {},
     "output_type": "display_data"
    }
   ],
   "source": [
    "def displayTag(tag_id, point_num):\n",
    "    \"\"\"\n",
    "    Display different tags and their points, called with change of interactive slider\n",
    "    \"\"\"\n",
    "    \n",
    "    # prepare figure\n",
    "    fig, ax = plt.subplots()\n",
    "    ax.figure.set_size_inches(*plot_size)\n",
    "    ax.set_xlim(*plot_limits)\n",
    "    ax.set_ylim(*plot_limits)\n",
    "    \n",
    "    # display all tags at once\n",
    "    if tag_id == -1:\n",
    "        ax.scatter(*zip(*[j for i in tags_data['tag_xy'] for j in i]))\n",
    "    \n",
    "    # display only one tag\n",
    "    elif tag_id in tags_data['tag_id'] and point_num < len(tags_data['tag_xy'][tags_data['tag_id'].index(tag_id)]):\n",
    "        # display all tag's points\n",
    "        if point_num == -1:\n",
    "            ax.scatter(*zip(*(tags_data['tag_xy'][tags_data['tag_id'].index(tag_id)])))\n",
    "        # display only one tag's point\n",
    "        else:\n",
    "            ax.scatter(*(tags_data['tag_xy'][tags_data['tag_id'].index(tag_id)][point_num]))\n",
    "\n",
    "    plt.show()\n",
    "    \n",
    "    # print data under the plot\n",
    "    if tag_id == -1:\n",
    "        for tag_counter, tag_points in enumerate(tags_data['tag_xy']):\n",
    "            for point_counter, tag_point in enumerate(tag_points):\n",
    "                print(\"tag{}_{} : {}\".format(tags_data['tag_id'][tag_counter], point_counter,\n",
    "                                             tags_data['tag_xy'][tag_counter][point_counter]))\n",
    "    elif tag_id in tags_data['tag_id'] and point_num < len(tags_data['tag_xy'][tags_data['tag_id'].index(tag_id)]):\n",
    "        if point_num == -1:\n",
    "            for point_counter, tag_point in enumerate(tags_data['tag_xy'][tags_data['tag_id'].index(tag_id)]):\n",
    "                print(\"tag{}_{} : {}\".format(tag_id, point_counter,\n",
    "                                             tags_data['tag_xy'][tags_data['tag_id'].index(tag_id)][point_counter]))\n",
    "        else:\n",
    "            print(\"tag{}_{} : {}\".format(tag_id, point_num,\n",
    "                                             tags_data['tag_xy'][tags_data['tag_id'].index(tag_id)][point_num]))\n",
    "\n",
    "\n",
    "# create interactive slider to handle tags display\n",
    "disp_tag_id = interactive(displayTag, tag_id=widgets.IntSlider(min=-1, max=max(tags_data['tag_id']), step=1, value=0),\n",
    "                          point_num=widgets.IntSlider(min=-1, max=max(tags_data['tag_id']), step=1, value=-1))\n",
    "display(disp_tag_id)"
   ]
  },
  {
   "cell_type": "markdown",
   "metadata": {},
   "source": [
    "Dodanie do danych o wielokątach list punktów potrzebnych do ich rysowania"
   ]
  },
  {
   "cell_type": "code",
   "execution_count": 12,
   "metadata": {},
   "outputs": [],
   "source": [
    "polys_data['poly_lines'] = []\n",
    "\n",
    "for poly_nodes in polys_data['nodes_id']:\n",
    "    poly_lines = []\n",
    "\n",
    "    for node_counter, node_id in enumerate(poly_nodes):\n",
    "        point1 = (nodes_data['node_xy'][nodes_data['node_id'].index(node_id)])\n",
    "        point2 = (nodes_data['node_xy'][nodes_data['node_id'].index(poly_nodes[node_counter - 1])])\n",
    "        poly_line = [point1, point2]\n",
    "        poly_lines.append(poly_line)\n",
    "    polys_data['poly_lines'].append(poly_lines)"
   ]
  },
  {
   "cell_type": "markdown",
   "metadata": {},
   "source": [
    "Przedstawienie wielokątów:"
   ]
  },
  {
   "cell_type": "code",
   "execution_count": 13,
   "metadata": {},
   "outputs": [
    {
     "data": {
      "image/png": "[encoded data removed]",
      "text/plain": [
       "<Figure size 864x864 with 1 Axes>"
      ]
     },
     "metadata": {
      "needs_background": "light"
     },
     "output_type": "display_data"
    }
   ],
   "source": [
    "# add lines of each polygon to LineCollection\n",
    "lc0 = LineCollection(polys_data['poly_lines'][0], colors='r')\n",
    "lc1 = LineCollection(polys_data['poly_lines'][1], colors='g', linewidths=2)\n",
    "lc2 = LineCollection(polys_data['poly_lines'][2], colors='b')\n",
    "lc3 = LineCollection(polys_data['poly_lines'][3], colors='y')\n",
    "lc4 = LineCollection(polys_data['poly_lines'][4], colors='m')\n",
    "\n",
    "# prepare figure\n",
    "fig, ax = plt.subplots()\n",
    "ax.set_xlim(*plot_limits)\n",
    "ax.set_ylim(*plot_limits)\n",
    "ax.figure.set_size_inches(*plot_size)\n",
    "\n",
    "# add all polygons to plot\n",
    "ax.add_collection(lc0)\n",
    "ax.add_collection(lc1)\n",
    "ax.add_collection(lc2)\n",
    "ax.add_collection(lc3)\n",
    "ax.add_collection(lc4)\n",
    "\n",
    "plt.show()"
   ]
  },
  {
   "cell_type": "markdown",
   "metadata": {},
   "source": [
    "# Zbadanie zawierania się tagów w wielokątach"
   ]
  },
  {
   "cell_type": "code",
   "execution_count": 14,
   "metadata": {},
   "outputs": [],
   "source": [
    "def getLineEquationCoeffs(seg):\n",
    "    \"\"\"Get coefficients of line given by two points of equation Ax + By + C = 0\"\"\"\n",
    "    x1, y1 = seg[0][0], seg[0][1]\n",
    "    x2, y2 = seg[1][0], seg[1][1]\n",
    "\n",
    "    A = y2 - y1\n",
    "    B = x1 - x2\n",
    "    C = (x2 * y1) - (x1 * y2)\n",
    "\n",
    "    return A, B, C\n",
    "\n",
    "def doSegmentsIntersect(segA, segB):\n",
    "    \"\"\"\n",
    "    Check if two segments intersect comparing alternately if points of segment lay on different sides of line made by\n",
    "    other segment\n",
    "    \"\"\"\n",
    "    \n",
    "    # get both (1 and 2) points of each segment (A and B)\n",
    "    xA_1, yA_1 = segA[0][0], segA[0][1]\n",
    "    xA_2, yA_2 = segA[1][0], segA[1][1]\n",
    "\n",
    "    xB_1, yB_1 = segB[0][0], segB[0][1]\n",
    "    xB_2, yB_2 = segB[1][0], segB[1][1]\n",
    "\n",
    "    # treat segment A as inf line\n",
    "    # equation of line A as Ax + By + C = 0\n",
    "\n",
    "    a1, b1, c1 = getLineEquationCoeffs(segA)\n",
    "\n",
    "    # check equation for values of segment B points\n",
    "    dB_1 = a1 * xB_1 + b1 * yB_1 + c1\n",
    "    dB_2 = a1 * xB_2 + b1 * yB_2 + c1\n",
    "\n",
    "    # if both segment B points are on the same side of line A - no intersection\n",
    "    if dB_1 * dB_2 > 0:\n",
    "        return False\n",
    "    \n",
    "    # do the same swaping A with B\n",
    "    a2, b2, c2 = getLineEquationCoeffs(segB)\n",
    "\n",
    "    dA_1 = a2 * xA_1 + b2 * yA_1 + c2\n",
    "    dA_2 = a2 * xA_2 + b2 * yA_2 + c2\n",
    "\n",
    "    if dA_1 * dA_2 > 0:\n",
    "        return False\n",
    "\n",
    "    # if segments are collinear, boundary case\n",
    "    if (a1 * b2) - (a2 * b1) == 0.:\n",
    "        return False\n",
    "    return True"
   ]
  },
  {
   "cell_type": "code",
   "execution_count": 15,
   "metadata": {},
   "outputs": [],
   "source": [
    "def isTagInPoligon(tag_xy, poly_xy):\n",
    "    \"\"\"Check if tag is inside given polygon using ray casting algorithm\n",
    "    \n",
    "    :param tag_xy: point (tag) position: (x, y)\n",
    "    :param poly_xy: list of polygon's vertexes: [(x0,y0),...,(xn, yn)]\n",
    "    :return: True/False\n",
    "    \"\"\"\n",
    "    \n",
    "    # get maximal and minimal values of polygon coordinates, which will correspond with it's 'box' bound\n",
    "    poly_min_x, poly_max_x = min([pnt[0] for pnt in poly_xy]), max([pnt[0] for pnt in poly_xy])\n",
    "    poly_min_y, poly_max_y = min([pnt[1] for pnt in poly_xy]), max([pnt[1] for pnt in poly_xy])\n",
    "\n",
    "    # polygon bounding box check\n",
    "    if tag_xy[0] > poly_max_x or tag_xy[0] < poly_min_x:\n",
    "        return False\n",
    "    if tag_xy[1] > poly_max_y or tag_xy[1] < poly_min_y:\n",
    "        return False\n",
    "\n",
    "    # create reference points to make segment for ray casting algorithm\n",
    "    # group of them is needed for the critical cases when segment would containing\n",
    "    # polygon's vertex - and would be counted twice, for each line with this point\n",
    "    eps = 0.5\n",
    "    ref_points_x = list(np.linspace(poly_max_x + eps, poly_max_x + 2 * eps, \n",
    "                                    len(polys_data['nodes_id'])))\n",
    "    \n",
    "    ref_points = [(x, poly_max_y + eps) for x in ref_points_x]\n",
    "\n",
    "    # check for all reference points\n",
    "    for ref_point in ref_points:\n",
    "        tag_seg = [tag_xy, ref_point]\n",
    "        # use ray casting - check how many times do the segment from point intersects with polygon\n",
    "        intersects_count = 0\n",
    "        for counter, poly_nod in enumerate(poly_xy):\n",
    "            poly_seg = [poly_nod, poly_xy[counter - 1]]\n",
    "\n",
    "            if doSegmentsIntersect(tag_seg, poly_seg):\n",
    "                intersects_count += 1\n",
    "        # if it intersects uneven amount - point is inside a polygon\n",
    "        if intersects_count % 2 == 1:\n",
    "            return True\n",
    "        # otherwise check slightly different segment\n",
    "        else:\n",
    "            continue\n",
    "    # if segment always gives even amount of intersections it means it is not inside\n",
    "    return False"
   ]
  },
  {
   "cell_type": "markdown",
   "metadata": {},
   "source": [
    "Zapisanie które tagi oraz które ich punkty należały do danego wielokąta"
   ]
  },
  {
   "cell_type": "code",
   "execution_count": 16,
   "metadata": {},
   "outputs": [],
   "source": [
    "for poly_nodes in polys_data['nodes_id']:\n",
    "    tags_poly_contained_spec = {'tag_id': tags_data['tag_id'], 'contained_state': []}\n",
    "    tags_contained_spec = []\n",
    "\n",
    "    # create list of points of current polygon\n",
    "    poly_xy = []\n",
    "    for node_id in poly_nodes:\n",
    "        poly_xy.append(nodes_data['node_xy'][nodes_data['node_id'].index(node_id)])\n",
    "    tags_contained_ids = []\n",
    "    for tags_multi in tags_data['tag_xy']:\n",
    "        tags_contained_spec_multi = []\n",
    "        for tag in tags_multi:\n",
    "            if isTagInPoligon(tag, poly_xy):\n",
    "                tags_contained_spec_multi.append(True)\n",
    "            else:\n",
    "                tags_contained_spec_multi.append(False)\n",
    "\n",
    "        tags_poly_contained_spec['contained_state'].append(tags_contained_spec_multi)\n",
    "        if True in tags_contained_spec_multi:\n",
    "            tags_contained_ids.append(tags_data['tag_id'][tags_data['tag_xy'].index(tags_multi)])\n",
    "\n",
    "    polys_data['contained_tags_spec'].append(tags_poly_contained_spec)\n",
    "    polys_data['contained_tags_ids'].append(tags_contained_ids)\n",
    "\n",
    "# print(polys_data['contained_tags_spec'][0])"
   ]
  },
  {
   "cell_type": "markdown",
   "metadata": {},
   "source": [
    "Przedstawienie tagów:"
   ]
  },
  {
   "cell_type": "code",
   "execution_count": 17,
   "metadata": {},
   "outputs": [
    {
     "data": {
      "application/vnd.jupyter.widget-view+json": {
       "model_id": "7f523a95a480463abcf99473053bf9c7",
       "version_major": 2,
       "version_minor": 0
      },
      "text/plain": [
       "interactive(children=(IntSlider(value=0, description='tag_id', max=49, min=-1), Output()), _dom_classes=('widg…"
      ]
     },
     "metadata": {},
     "output_type": "display_data"
    }
   ],
   "source": [
    "def displayTagAndPolys(tag_id):\n",
    "    \"\"\"\n",
    "    Display tags and on background with all polygons\n",
    "    \"\"\"\n",
    "    \n",
    "    # prepare figure\n",
    "    fig, ax = plt.subplots()\n",
    "    ax.figure.set_size_inches(*plot_size)\n",
    "    ax.set_xlim(*plot_limits)\n",
    "    ax.set_ylim(*plot_limits)\n",
    "    \n",
    "    # prepare lines of polygons to print\n",
    "    lc0 = LineCollection(polys_data['poly_lines'][0], colors='r')\n",
    "    lc1 = LineCollection(polys_data['poly_lines'][1], colors='g', linewidths=2)\n",
    "    lc2 = LineCollection(polys_data['poly_lines'][2], colors='b')\n",
    "    lc3 = LineCollection(polys_data['poly_lines'][3], colors='y')\n",
    "    lc4 = LineCollection(polys_data['poly_lines'][4], colors='m')\n",
    "    # add polygons lines to plot\n",
    "    ax.add_collection(lc0)\n",
    "    ax.add_collection(lc1)\n",
    "    ax.add_collection(lc2)\n",
    "    ax.add_collection(lc3)\n",
    "    ax.add_collection(lc4)\n",
    "    \n",
    "    # print all tags\n",
    "    if tag_id == -1:\n",
    "        ax.scatter(*zip(*[j for i in tags_data['tag_xy'] for j in i]))\n",
    "    # print only specified tag\n",
    "    elif tag_id in tags_data['tag_id']:\n",
    "        ax.scatter(*zip(*(tags_data['tag_xy'][tags_data['tag_id'].index(tag_id)])))\n",
    "    plt.show()\n",
    "    \n",
    "\n",
    "#create interactive slider\n",
    "disp_tagpolys_id = interactive(displayTagAndPolys, tag_id=widgets.IntSlider(min=-1,max=max(tags_data['tag_id']),step=1,value=0))\n",
    "display(disp_tagpolys_id)"
   ]
  },
  {
   "cell_type": "markdown",
   "metadata": {},
   "source": [
    "# Występowanie tagów w wielokątach"
   ]
  },
  {
   "cell_type": "markdown",
   "metadata": {},
   "source": [
    "Wyrysowanie oraz wypisanie tagów zawartych w poszczególnych wielokątach. <br>\n",
    "(wybór -1 odpowiada sytuacji wielokąta 1. z wyłączeniem pola 2.)"
   ]
  },
  {
   "cell_type": "code",
   "execution_count": 18,
   "metadata": {},
   "outputs": [
    {
     "data": {
      "application/vnd.jupyter.widget-view+json": {
       "model_id": "66fbe26b4d8f42d1a213f0d8e47beb0c",
       "version_major": 2,
       "version_minor": 0
      },
      "text/plain": [
       "interactive(children=(IntSlider(value=0, description='poly_id', max=4, min=-1), Output()), _dom_classes=('widg…"
      ]
     },
     "metadata": {},
     "output_type": "display_data"
    }
   ],
   "source": [
    "def printTagsContainedInPoly(poly_id):\n",
    "    \"\"\"\n",
    "    Display selected polygon and all tags contained in it\n",
    "    \"\"\"\n",
    "    \n",
    "    # prepare figure\n",
    "    fig, ax = plt.subplots()\n",
    "    ax.figure.set_size_inches(*plot_size)\n",
    "    ax.set_xlim(*plot_limits)\n",
    "    ax.set_ylim(*plot_limits)\n",
    "    \n",
    "    contained_points = []\n",
    "    contained_tags_ids = []\n",
    "    \n",
    "    # when we inspect area of 1 excluding 2\n",
    "    if poly_id == -1:\n",
    "        print(\"Tagi należące do wielokąta 1. z wyłączeniem obszaru 2.:\")\n",
    "        lc1 = LineCollection(polys_data['poly_lines'][1], colors='r')\n",
    "        lc2 = LineCollection(polys_data['poly_lines'][2], colors='b')\n",
    "        ax.add_collection(lc1)\n",
    "        ax.add_collection(lc2)\n",
    "        \n",
    "        for tag_counter, tag_spec in enumerate(polys_data['contained_tags_spec'][1]['contained_state']):\n",
    "            for occur_counter, tag_state in enumerate(tag_spec):\n",
    "                if tag_state is True and \\\n",
    "                        polys_data['contained_tags_spec'][2]['contained_state'][tag_counter][occur_counter] is False:\n",
    "                    contained_points.append(tags_data['tag_xy'][tag_counter][occur_counter])\n",
    "                    if polys_data['contained_tags_spec'][1]['tag_id'][tag_counter] not in contained_tags_ids:\n",
    "                        contained_tags_ids.append(polys_data['contained_tags_spec'][1]['tag_id'][tag_counter])\n",
    "        \n",
    "    # full area of polygon\n",
    "    else:\n",
    "        print(\"Tagi należące do wielokąta {}.:\".format(poly_id))\n",
    "        lc = LineCollection(polys_data['poly_lines'][poly_id], colors='r')\n",
    "        ax.add_collection(lc)\n",
    "        for tag_counter, tag_spec in enumerate(polys_data['contained_tags_spec'][poly_id]['contained_state']):\n",
    "            for occur_counter, tag_state in enumerate(tag_spec):\n",
    "                if tag_state == True:\n",
    "                    contained_points.append(tags_data['tag_xy'][tag_counter][occur_counter])\n",
    "                    if polys_data['contained_tags_spec'][poly_id]['tag_id'][tag_counter] not in contained_tags_ids:\n",
    "                        contained_tags_ids.append(polys_data['contained_tags_spec'][poly_id]['tag_id'][tag_counter])\n",
    "                        \n",
    "    print(contained_tags_ids)\n",
    "    ax.scatter(*zip(*contained_points))\n",
    "\n",
    "print_tags_contained_in_poly = interactive(printTagsContainedInPoly, poly_id=widgets.IntSlider(min=-1,max=max(polys_data['poly_id']),step=1,value=0))\n",
    "display(print_tags_contained_in_poly)"
   ]
  },
  {
   "cell_type": "markdown",
   "metadata": {},
   "source": [
    "Zapisanie danych o szczególnej ilości wystąpień poszczególnych tagów w wielokątach (dla każdego ich punktu)"
   ]
  },
  {
   "cell_type": "code",
   "execution_count": 19,
   "metadata": {},
   "outputs": [],
   "source": [
    "# prepare list of occurences of each point of tag (at first zero all elements)\n",
    "tags_data['tag_occurence_spec'] = [[0]] * len(tags_data['tag_id'])\n",
    "\n",
    "for counter, occurs in enumerate(tags_data['tag_xy']):\n",
    "    tags_data['tag_occurence_spec'][counter] = [0] * len(occurs)\n",
    "\n",
    "\n",
    "for poly in polys_data['contained_tags_spec']:\n",
    "    for tag_counter, tags_spec in enumerate(poly['contained_state']):\n",
    "        for occur_counter, tag_spec in enumerate(tags_spec):\n",
    "            if tag_spec == True:\n",
    "                tags_data['tag_occurence_spec'][tag_counter][occur_counter] += 1\n",
    "                \n",
    "# print(tags_data['tag_occurance_spec'])"
   ]
  },
  {
   "cell_type": "markdown",
   "metadata": {},
   "source": [
    "Zapisanie danych o ogólnej ilości wystąpień poszczególnych tagów"
   ]
  },
  {
   "cell_type": "code",
   "execution_count": 20,
   "metadata": {},
   "outputs": [],
   "source": [
    "# prepare list of total occurences of tag\n",
    "tags_data['tag_occurences_total'] = [0] * len(tags_data['tag_id'])\n",
    "\n",
    "for tag_counter, tag_occurs in enumerate(tags_data['tag_occurence_spec']):\n",
    "    for occur in tag_occurs:\n",
    "        tags_data['tag_occurences_total'][tag_counter] += occur\n",
    "\n",
    "# print(tags_data['tag_occurences_sum'])"
   ]
  },
  {
   "cell_type": "markdown",
   "metadata": {},
   "source": [
    "Wyznaczenie najczęściej występujących tagów zawartych w wielokątach"
   ]
  },
  {
   "cell_type": "code",
   "execution_count": 21,
   "metadata": {},
   "outputs": [
    {
     "name": "stdout",
     "output_type": "stream",
     "text": [
      "Tagi z największą ilością wystąpień w wielokątach (tag_id): [7, 32]\n",
      "(występują one po 7 razy)\n"
     ]
    }
   ],
   "source": [
    "# create list of tags that are inside polygons for most times\n",
    "most_occur_tags = [i for count, i in enumerate(tags_data['tag_id'])\n",
    "                   if tags_data['tag_occurences_total'][count] == max(tags_data['tag_occurences_total'])]\n",
    "\n",
    "print(\"Tagi z największą ilością wystąpień w wielokątach (tag_id): {}\".format(most_occur_tags))\n",
    "print(\"(występują one po {} razy)\".format(max(tags_data['tag_occurences_total'])))"
   ]
  },
  {
   "cell_type": "markdown",
   "metadata": {},
   "source": [
    "Obliczenie ilości występowania punktów i tagów nie zawartych w żadnym wielokącie"
   ]
  },
  {
   "cell_type": "code",
   "execution_count": 22,
   "metadata": {},
   "outputs": [
    {
     "name": "stdout",
     "output_type": "stream",
     "text": [
      "91\tilość punktów nie zawarta w żadnym wielokącie\n",
      "40\tilość tagów nie zawarta w żadnym wielokącie co najmniej raz\n",
      "7\tilość tagów nigdy nie zawarta w wielokącie\n"
     ]
    }
   ],
   "source": [
    "# prepare dictionary to store specific amount of tag 'non'-appearances\n",
    "blank_tags = {'blank_points_num': 0, 'blank_tags_num': 0, 'fully_blank_tags_num': 0}\n",
    "\n",
    "for tag_counter, tag_occurs in enumerate(tags_data['tag_occurence_spec']):\n",
    "    blank_tag_check_state = False\n",
    "    for occur in tag_occurs:\n",
    "        if occur == 0:\n",
    "            blank_tags['blank_points_num'] += 1\n",
    "            if blank_tag_check_state == False:\n",
    "                blank_tags['blank_tags_num'] += 1\n",
    "                blank_tag_check_state = True\n",
    "blank_tags['fully_blank_tags_num'] = tags_data['tag_occurences_total'].count(0)\n",
    "print(\"{}\\tilość punktów nie zawarta w żadnym wielokącie\".format(blank_tags['blank_points_num']))\n",
    "print(\"{}\\tilość tagów nie zawarta w żadnym wielokącie co najmniej raz\".format(blank_tags['blank_tags_num']))\n",
    "print(\"{}\\tilość tagów nigdy nie zawarta w wielokącie\".format(blank_tags['fully_blank_tags_num']))"
   ]
  }
 ],
 "metadata": {
  "kernelspec": {
   "display_name": "Python 2",
   "language": "python",
   "name": "python2"
  },
  "language_info": {
   "codemirror_mode": {
    "name": "ipython",
    "version": 3
   },
   "file_extension": ".py",
   "mimetype": "text/x-python",
   "name": "python",
   "nbconvert_exporter": "python",
   "pygments_lexer": "ipython3",
   "version": "3.6.7"
  }
 },
 "nbformat": 4,
 "nbformat_minor": 1
}
