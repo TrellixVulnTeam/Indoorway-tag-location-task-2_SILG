{
 "cells": [
  {
   "cell_type": "code",
   "execution_count": null,
   "metadata": {
    "collapsed": true
   },
   "outputs": [],
   "source": [
    "from scipy.optimize import least_squares\n",
    "import numpy as np"
   ]
  },
  {
   "cell_type": "code",
   "execution_count": null,
   "metadata": {},
   "outputs": [],
   "source": [
    "import matplotlib.pyplot as plt\n",
    "from matplotlib.collections import LineCollection\n",
    "\n",
    "\n",
    "from ipywidgets import interact, interactive, fixed, interact_manual\n",
    "import ipywidgets as widgets\n",
    "from IPython.display import display\n",
    "\n",
    "%matplotlib inline"
   ]
  },
  {
   "cell_type": "markdown",
   "metadata": {},
   "source": [
    "Załadowanie pliku z danymi i zapisanie jego linii do listy"
   ]
  },
  {
   "cell_type": "code",
   "execution_count": null,
   "metadata": {},
   "outputs": [],
   "source": [
    "with open(\"python_zadanie_2.txt\", \"r\") as task_file:\n",
    "    task_file_lines = task_file.readlines()"
   ]
  },
  {
   "cell_type": "markdown",
   "metadata": {},
   "source": [
    "Stworzenie słowników do wczytania i zapisania odpowiednich danych o: anchorach"
   ]
  },
  {
   "cell_type": "code",
   "execution_count": null,
   "metadata": {},
   "outputs": [],
   "source": [
    "anchors_data = {'anchor_id': [], 'anchor_xy': []}\n",
    "blank_count = 0\n",
    "for line in task_file_lines[task_file_lines.index('1. Położenia anchorów\\n') + 6:]:\n",
    "    if line != '\\n':\n",
    "        str_line = line.strip('\\n').split(' ')\n",
    "        num_line = [float(i) for i in str_line]\n",
    "        num_line[0] = int(num_line[0])\n",
    "        anchors_data['anchor_id'].append(num_line[0])\n",
    "        anchors_data['anchor_xy'].append(tuple(num_line[1:3]))\n",
    "\n",
    "        blank_count = 0;\n",
    "    else:\n",
    "        blank_count += 1\n",
    "    if blank_count > 1:\n",
    "        break\n",
    "print(anchors_data)"
   ]
  },
  {
   "cell_type": "markdown",
   "metadata": {},
   "source": [
    "o: tagach"
   ]
  },
  {
   "cell_type": "code",
   "execution_count": null,
   "metadata": {},
   "outputs": [],
   "source": [
    "tags_data = {'tag_id': [], 'dist_to_anchors': [], 'tag_xy': []}\n",
    "blank_count = 0;\n",
    "for line in task_file_lines[task_file_lines.index('2. Pomiary odległości obiektów od anchorów\\n') + 6:]:\n",
    "    if line != '\\n':\n",
    "        str_line = line.strip('\\n').split(' ')\n",
    "        num_line = [float(i) for i in str_line]\n",
    "        num_line[0] = int(num_line[0])\n",
    "        if num_line[0] not in tags_data['tag_id']:\n",
    "            tags_data['tag_id'].append(num_line[0])\n",
    "            tags_data['dist_to_anchors'].append([num_line[1:]])\n",
    "        else:\n",
    "            index = tags_data['tag_id'].index(num_line[0])\n",
    "            tags_data['dist_to_anchors'][index].append(num_line[1:])\n",
    "\n",
    "        blank_count = 0;\n",
    "    else:\n",
    "        blank_count += 1\n",
    "    if blank_count > 1:\n",
    "        break\n",
    "print(tags_data['tag_id'])"
   ]
  },
  {
   "cell_type": "markdown",
   "metadata": {},
   "source": [
    "posortowanie tagow wzgledem ich id"
   ]
  },
  {
   "cell_type": "code",
   "execution_count": null,
   "metadata": {},
   "outputs": [],
   "source": [
    "# sort tags_data by tag_id\n",
    "tags_data['tag_id'], tags_data['dist_to_anchors'] = zip(*sorted(zip(tags_data['tag_id'], tags_data['dist_to_anchors'])))\n",
    "print(tags_data['tag_id'])"
   ]
  },
  {
   "cell_type": "code",
   "execution_count": null,
   "metadata": {},
   "outputs": [],
   "source": [
    "polys_lines = []\n",
    "for poly_nodes in polys_data['nodes_id']:\n",
    "    poly_lines = []\n",
    "\n",
    "    for counter1, node_id in enumerate(poly_nodes):\n",
    "        point1 = (nodes_data['node_xy'][nodes_data['node_id'].index(node_id)])\n",
    "        point2 = (nodes_data['node_xy'][nodes_data['node_id'].index(poly_nodes[counter1 - 1])])\n",
    "        poly_line = [point1, point2]\n",
    "        poly_lines.append(poly_line)\n",
    "    polys_lines.append(poly_lines)\n",
    "polys_data['poly_lines'] = polys_lines"
   ]
  },
  {
   "cell_type": "code",
   "execution_count": null,
   "metadata": {},
   "outputs": [],
   "source": [
    "blank_count = 0\n",
    "polys_data = {'poly_id': [], 'nodes_id': [], 'contained_tags_ids': [], 'contained_tags_spec': []}\n",
    "for line in task_file_lines[task_file_lines.index('3. Opis wielokątów\\n') + 6:]:\n",
    "    if line != '\\n':\n",
    "        str_line = line.strip('\\n').replace('[', '').replace(']', '').split(' ')\n",
    "        num_line = [int(i) for i in str_line]\n",
    "        polys_data['poly_id'].append(num_line[0])\n",
    "        polys_data['nodes_id'].append(num_line[1:])\n",
    "        blank_count = 0\n",
    "    else:\n",
    "        blank_count += 1\n",
    "    if blank_count > 1:\n",
    "        break\n",
    "\n",
    "print(polys_data)"
   ]
  },
  {
   "cell_type": "code",
   "execution_count": null,
   "metadata": {},
   "outputs": [],
   "source": [
    "lc0 = LineCollection(polys_data['poly_lines'][0], colors='r')\n",
    "lc1 = LineCollection(polys_data['poly_lines'][1], colors='g', linewidths=2)\n",
    "lc2 = LineCollection(polys_data['poly_lines'][2], colors='b')\n",
    "lc3 = LineCollection(polys_data['poly_lines'][3], colors='y')\n",
    "lc4 = LineCollection(polys_data['poly_lines'][4], colors='m')\n",
    "fig, ax = plt.subplots()\n",
    "ax.set_xlim(-1.5, 1.5)\n",
    "ax.set_ylim(-1.5, 1.5)\n",
    "ax.add_collection(lc0); ax.add_collection(lc1); ax.add_collection(lc2); ax.add_collection(lc3); ax.add_collection(lc4)\n",
    "plt.show()"
   ]
  },
  {
   "cell_type": "code",
   "execution_count": null,
   "metadata": {},
   "outputs": [],
   "source": [
    "blank_count = 0\n",
    "nodes_data = {'node_id': [], 'node_xy': []}\n",
    "for line in task_file_lines[task_file_lines.index('4. Położenia wierzchołków wielokątów\\n') + 6:]:\n",
    "    if line != '\\n':\n",
    "        str_line = line.strip('\\n').split(' ')\n",
    "        num_line = [float(i) for i in str_line]\n",
    "        num_line[0] = int(num_line[0])\n",
    "        nodes_data['node_id'].append(num_line[0])\n",
    "        nodes_data['node_xy'].append(tuple(num_line[1:3]))\n",
    "        blank_count = 0\n",
    "    else:\n",
    "        blank_count += 1\n",
    "    if blank_count > 1:\n",
    "        break\n",
    "\n",
    "print(nodes_data)"
   ]
  },
  {
   "cell_type": "markdown",
   "metadata": {},
   "source": [
    "# Obliczenie położenia tagów na podstawie ich odległości od anchorów"
   ]
  },
  {
   "cell_type": "markdown",
   "metadata": {},
   "source": [
    "Obliczenia te zrealizujemy tworzac uklad czterech rownan - (rownan okregow o srodku w danym anchorze i promieniu rownym odleglosci anchora od taga) o dwoch niewiadomych (wspolrzednych x, y taga). Uklad ten bedzie nadokreslony - nie bedzie mial jednego jednoznacznego rozwiazania. Aby uzyskac satysfakcjonujace - optymalne rozwiązanie poslużymy się metodą najmniejszych kwadratów."
   ]
  },
  {
   "cell_type": "code",
   "execution_count": null,
   "metadata": {},
   "outputs": [],
   "source": [
    "def equations(X_vec, **kwargs):\n",
    "    F = []\n",
    "    for i in range(4):\n",
    "        F.append((kwargs['anchors'][i][0] - X_vec[0]) ** 2 + (kwargs['anchors'][i][1] - X_vec[1]) ** 2\n",
    "                 - kwargs['distances'][i] ** 2)\n",
    "    return np.array(F)\n",
    "\n",
    "def getTagPosition(anchors, distances):\n",
    "    X_vec_0 = np.array([1, 1])\n",
    "    tag_data = {'anchors': anchors, 'distances': distances}\n",
    "    result = least_squares(equations, X_vec_0, method='lm', kwargs=tag_data)\n",
    "    return tuple(result.x)"
   ]
  },
  {
   "cell_type": "markdown",
   "metadata": {},
   "source": [
    "Przeprowadzenie obliczen i zapisanie wspolrzednych wszystkich tagow"
   ]
  },
  {
   "cell_type": "code",
   "execution_count": null,
   "metadata": {},
   "outputs": [],
   "source": [
    "for counter1, tag_distances in enumerate(tags_data['dist_to_anchors']):\n",
    "    for counter2, tag_dist in enumerate(tag_distances):\n",
    "        if counter2 == 0:\n",
    "            tags_data['tag_xy'].append([getTagPosition(anchors_data['anchor_xy'], tag_dist)])\n",
    "        else:\n",
    "            tags_data['tag_xy'][counter1].append(getTagPosition(anchors_data['anchor_xy'], tag_dist))\n",
    "print(tags_data['tag_xy'])"
   ]
  },
  {
   "cell_type": "markdown",
   "metadata": {},
   "source": [
    "# Zbadanie czy tagi należą do danych wielokątów"
   ]
  },
  {
   "cell_type": "code",
   "execution_count": null,
   "metadata": {},
   "outputs": [],
   "source": [
    "def getLineEquationCoeffs(seg):\n",
    "    x1, y1 = seg[0][0], seg[0][1]\n",
    "    x2, y2 = seg[1][0], seg[1][1]\n",
    "\n",
    "    A = y2 - y1\n",
    "    B = x1 - x2\n",
    "    C = (x2 * y1) - (x1 * y2)\n",
    "\n",
    "    return A, B, C\n",
    "\n",
    "def doSegmentsIntersect(segA, segB):\n",
    "    xA_1, yA_1 = segA[0][0], segA[0][1]\n",
    "    xA_2, yA_2 = segA[1][0], segA[1][1]\n",
    "\n",
    "    xB_1, yB_1 = segB[0][0], segB[0][1]\n",
    "    xB_2, yB_2 = segB[1][0], segB[1][1]\n",
    "\n",
    "    # seg1 as inf line\n",
    "    # equation of line1 as Ax + By + C = 0\n",
    "\n",
    "    a1, b1, c1 = getLineEquationCoeffs(segA)\n",
    "\n",
    "    # check equation for values of seg2 coords\n",
    "    dB_1 = a1 * xB_1 + b1 * yB_1 + c1\n",
    "    dB_2 = a1 * xB_2 + b1 * yB_2 + c1\n",
    "\n",
    "    #if both seg2 points are on the same side of line1 - no intersection\n",
    "    if dB_1 * dB_2 > 0:\n",
    "        return False\n",
    "\n",
    "    a2, b2, c2 = getLineEquationCoeffs(segB)\n",
    "\n",
    "    dA_1 = a2 * xA_1 + b2 * yA_1 + c2\n",
    "    dA_2 = a2 * xA_2 + b2 * yA_2 + c2\n",
    "\n",
    "    if dA_1 * dA_2 > 0:\n",
    "        return False\n",
    "\n",
    "    # if segments are collinear\n",
    "    if (a1 * b2) - (a2 * b1) == 0.:\n",
    "        return False\n",
    "\n",
    "    return True"
   ]
  },
  {
   "cell_type": "code",
   "execution_count": null,
   "metadata": {},
   "outputs": [],
   "source": [
    "def isTagInPoligon(tag_xy, poly_xy):\n",
    "\n",
    "    poly_min_x, poly_max_x = min([pnt[0] for pnt in poly_xy]), max([pnt[0] for pnt in poly_xy])\n",
    "    poly_min_y, poly_max_y = min([pnt[1] for pnt in poly_xy]), max([pnt[1] for pnt in poly_xy])\n",
    "\n",
    "    # polygon bounding box check\n",
    "    if tag_xy[0] > poly_max_x or tag_xy[0] < poly_min_x:\n",
    "        return False\n",
    "    if tag_xy[1] > poly_max_y or tag_xy[1] < poly_min_y:\n",
    "        return False\n",
    "\n",
    "    # create reference point which together with tag will create segment to check intersections\n",
    "    eps = 0.2\n",
    "    refPoint = (poly_max_x + eps * abs(poly_max_x), poly_max_y + eps * abs(poly_max_y))\n",
    "    refPoints = [refPoint, (refPoint[0] + eps / 4, refPoint[1]), (refPoint[0], refPoint[1] - eps / 4),\n",
    "                 (refPoint[0] - eps / 4, refPoint[1]), (refPoint[0], refPoint[1] + eps / 4)]\n",
    "\n",
    "    # check for all reference points to make sure collinearity doesnt spoil result\n",
    "    for refPnt in refPoints:\n",
    "        tag_seg = [tag_xy, refPnt]\n",
    "        intersects_count = 0\n",
    "        for counter, poly_nod in enumerate(poly_xy):\n",
    "            poly_seg = [poly_nod, poly_xy[counter - 1]]\n",
    "\n",
    "            if doSegmentsIntersect(tag_seg, poly_seg):\n",
    "                intersects_count += 1\n",
    "\n",
    "        if intersects_count % 2 == 1:\n",
    "            return True\n",
    "        else:\n",
    "            continue\n",
    "    return False"
   ]
  },
  {
   "cell_type": "markdown",
   "metadata": {},
   "source": [
    "Zapisanie ktore tagi nalezaly do danego wielokata oraz oznaczenie ktore ich wystapienia"
   ]
  },
  {
   "cell_type": "code",
   "execution_count": null,
   "metadata": {},
   "outputs": [],
   "source": [
    "for poly_nodes in polys_data['nodes_id']:\n",
    "    poly_xy = []\n",
    "    tags_contained_spec = []\n",
    "    for node_id in poly_nodes:\n",
    "        poly_xy.append(nodes_data['node_xy'][nodes_data['node_id'].index(node_id)])\n",
    "    tags_contained_ids = []\n",
    "    for tags_multi in tags_data['tag_xy']:\n",
    "        tags_contained_spec_multi = []\n",
    "        for tag in tags_multi:\n",
    "            if isTagInPoligon(tag, poly_xy):\n",
    "                tags_contained_spec_multi.append(True)\n",
    "            else:\n",
    "                tags_contained_spec_multi.append(False)\n",
    "        tags_contained_spec.append(tags_contained_spec_multi)\n",
    "        if True in tags_contained_spec_multi:\n",
    "            tags_contained_ids.append(tags_data['tag_id'][tags_data['tag_xy'].index(tags_multi)])\n",
    "\n",
    "    polys_data['contained_tags_spec'].append(tags_contained_spec)\n",
    "    polys_data['contained_tags_ids'].append(tags_contained_ids)\n",
    "    \n",
    "print(polys_data['contained_tags_ids'])"
   ]
  },
  {
   "cell_type": "markdown",
   "metadata": {},
   "source": [
    "Dodanie do danych o wielokątach list punktów potrzebnych do ich rysowania"
   ]
  },
  {
   "cell_type": "code",
   "execution_count": null,
   "metadata": {},
   "outputs": [],
   "source": [
    "polys_lines = []\n",
    "for poly_nodes in polys_data['nodes_id']:\n",
    "    poly_lines = []\n",
    "\n",
    "    for counter1, node_id in enumerate(poly_nodes):\n",
    "        point1 = (nodes_data['node_xy'][nodes_data['node_id'].index(node_id)])\n",
    "        point2 = (nodes_data['node_xy'][nodes_data['node_id'].index(poly_nodes[counter1 - 1])])\n",
    "        poly_line = [point1, point2]\n",
    "        poly_lines.append(poly_line)\n",
    "    polys_lines.append(poly_lines)\n",
    "polys_data['poly_lines'] = polys_lines"
   ]
  },
  {
   "cell_type": "markdown",
   "metadata": {},
   "source": [
    "Narysowanie wielokątów"
   ]
  },
  {
   "cell_type": "code",
   "execution_count": null,
   "metadata": {},
   "outputs": [],
   "source": [
    "lc0 = LineCollection(polys_data['poly_lines'][0], colors='r')\n",
    "lc1 = LineCollection(polys_data['poly_lines'][1], colors='g', linewidths=2)\n",
    "lc2 = LineCollection(polys_data['poly_lines'][2], colors='b')\n",
    "lc3 = LineCollection(polys_data['poly_lines'][3], colors='y')\n",
    "lc4 = LineCollection(polys_data['poly_lines'][4], colors='m')\n",
    "fig, ax = plt.subplots()\n",
    "ax.set_xlim(-1.5, 1.5)\n",
    "ax.set_ylim(-1.5, 1.5)\n",
    "ax.add_collection(lc0); ax.add_collection(lc1); ax.add_collection(lc2); ax.add_collection(lc3); ax.add_collection(lc4)\n",
    "plt.show()"
   ]
  },
  {
   "cell_type": "code",
   "execution_count": null,
   "metadata": {},
   "outputs": [],
   "source": [
    "def displayTag(tag_id):\n",
    "    lc0 = LineCollection(polys_data['poly_lines'][0], colors='r')\n",
    "    lc1 = LineCollection(polys_data['poly_lines'][1], colors='g', linewidths=2)\n",
    "    lc2 = LineCollection(polys_data['poly_lines'][2], colors='b')\n",
    "    lc3 = LineCollection(polys_data['poly_lines'][3], colors='y')\n",
    "    lc4 = LineCollection(polys_data['poly_lines'][4], colors='m')\n",
    "    fig, ax = plt.subplots()\n",
    "    ax.set_xlim(-1.5, 1.5)\n",
    "    ax.set_ylim(-1.5, 1.5)\n",
    "    ax.add_collection(lc0); ax.add_collection(lc1); ax.add_collection(lc2); ax.add_collection(lc3); ax.add_collection(lc4)\n",
    "    if tag_id in tags_data['tag_id']:\n",
    "        ax.scatter(*zip(*(tags_data['tag_xy'][tags_data['tag_id'].index(tag_id)])))\n",
    "    plt.show()\n",
    "    \n",
    "disp_tag_id = interactive(displayTag, tag_id=widgets.IntSlider(min=0,max=len(tags_data['tag_id']),step=1,value=0))\n",
    "display(disp_tag_id)"
   ]
  },
  {
   "cell_type": "code",
   "execution_count": null,
   "metadata": {},
   "outputs": [],
   "source": [
    ""
   ]
  }
 ],
 "metadata": {
  "kernelspec": {
   "display_name": "Python 2",
   "language": "python",
   "name": "python2"
  },
  "language_info": {
   "codemirror_mode": {
    "name": "ipython",
    "version": 2
   },
   "file_extension": ".py",
   "mimetype": "text/x-python",
   "name": "python",
   "nbconvert_exporter": "python",
   "pygments_lexer": "ipython2",
   "version": "2.7.6"
  }
 },
 "nbformat": 4,
 "nbformat_minor": 0
}
