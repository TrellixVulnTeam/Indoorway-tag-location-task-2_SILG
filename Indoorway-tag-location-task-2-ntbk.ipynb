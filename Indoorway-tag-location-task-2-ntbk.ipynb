{
 "cells": [
  {
   "cell_type": "code",
   "execution_count": null,
   "metadata": {
    "collapsed": true
   },
   "outputs": [],
   "source": [
    ""
   ]
  },
  {
   "cell_type": "code",
   "execution_count": null,
   "metadata": {},
   "outputs": [],
   "source": [
    "import numpy as np\n",
    "from scipy.optimize import least_squares\n",
    "\n",
    "import matplotlib.pyplot as plt\n",
    "from matplotlib.collections import LineCollection\n",
    "from matplotlib import animation\n",
    "\n",
    "from ipywidgets import interactive\n",
    "import ipywidgets as widgets\n",
    "from IPython.display import display\n",
    "\n",
    "%matplotlib inline"
   ]
  },
  {
   "cell_type": "markdown",
   "metadata": {},
   "source": [
    "Załadowanie pliku z danymi i zapisanie jego linii do listy"
   ]
  },
  {
   "cell_type": "code",
   "execution_count": null,
   "metadata": {},
   "outputs": [],
   "source": [
    "with open(\"python_zadanie_2.txt\", \"r\") as task_file:\n",
    "    task_file_lines = task_file.readlines()"
   ]
  },
  {
   "cell_type": "markdown",
   "metadata": {},
   "source": [
    "Stworzenie słowników do wczytania i zapisania odpowiednich danych o anchorach:"
   ]
  },
  {
   "cell_type": "code",
   "execution_count": null,
   "metadata": {},
   "outputs": [],
   "source": [
    "# number of blank lines in source file between title of data section and data\n",
    "blank_lines_section = 6\n",
    "\n",
    "# dictionary for anchors data\n",
    "anchors_data = {'anchor_id': [], 'anchor_xy': []}\n",
    "blank_count = 0\n",
    "\n",
    "for line in task_file_lines[task_file_lines.index('1. Położenia anchorów\\n') + blank_lines_section:]:\n",
    "    if line != '\\n':\n",
    "        str_line = line.strip('\\n').split(' ')\n",
    "        num_line = [float(i) for i in str_line]\n",
    "        num_line[0] = int(num_line[0])\n",
    "        anchors_data['anchor_id'].append(num_line[0])\n",
    "        anchors_data['anchor_xy'].append(tuple(num_line[1:3]))\n",
    "        blank_count = 0\n",
    "    else:\n",
    "        blank_count += 1\n",
    "    if blank_count > 1:\n",
    "        break\n",
    "        \n",
    "print(anchors_data)"
   ]
  },
  {
   "cell_type": "markdown",
   "metadata": {},
   "source": [
    "Stworzenie słowników do wczytania i zapisania odpowiednich danych o tagach:"
   ]
  },
  {
   "cell_type": "code",
   "execution_count": null,
   "metadata": {},
   "outputs": [],
   "source": [
    "# dictionary for tags data\n",
    "tags_data = {'tag_id': [], 'dist_to_anchors': [], 'tag_xy': []}\n",
    "\n",
    "blank_count = 0\n",
    "for line in task_file_lines[task_file_lines.index('2. Pomiary odległości obiektów od anchorów\\n') + blank_lines_section:]:\n",
    "    if line != '\\n':\n",
    "        str_line = line.strip('\\n').split(' ')\n",
    "        num_line = [float(i) for i in str_line]\n",
    "        num_line[0] = int(num_line[0])\n",
    "        if num_line[0] not in tags_data['tag_id']:\n",
    "            tags_data['tag_id'].append(num_line[0])\n",
    "            tags_data['dist_to_anchors'].append([num_line[1:]])\n",
    "        else:\n",
    "            index = tags_data['tag_id'].index(num_line[0])\n",
    "            tags_data['dist_to_anchors'][index].append(num_line[1:])\n",
    "\n",
    "        blank_count = 0\n",
    "    else:\n",
    "        blank_count += 1\n",
    "    if blank_count > 1:\n",
    "        break\n",
    "print(\"ID tagów zgodnie z kolejnością w zapisie\") \n",
    "print(tags_data['tag_id'])"
   ]
  },
  {
   "cell_type": "markdown",
   "metadata": {},
   "source": [
    "Posortowanie tagow wzgledem ich id"
   ]
  },
  {
   "cell_type": "code",
   "execution_count": null,
   "metadata": {},
   "outputs": [],
   "source": [
    "# sort tags_data by tag_id\n",
    "tags_data['tag_id'], tags_data['dist_to_anchors'] = zip(*sorted(zip(tags_data['tag_id'], tags_data['dist_to_anchors'])))\n",
    "\n",
    "tags_data['tag_id'] = list(tags_data['tag_id'])\n",
    "tags_data['dist_to_anchors'] = list(tags_data['dist_to_anchors'])\n",
    "\n",
    "print(\"ID tagów zgodnie z kolejnością w zapisie\") \n",
    "print(tags_data['tag_id'])"
   ]
  },
  {
   "cell_type": "markdown",
   "metadata": {},
   "source": [
    "Stworzenie słowników do wczytania i zapisania odpowiednich danych o wielokątach:"
   ]
  },
  {
   "cell_type": "code",
   "execution_count": null,
   "metadata": {},
   "outputs": [],
   "source": [
    "# dictionary for polygons data\n",
    "polys_data = {'poly_id': [], 'nodes_id': [], 'contained_tags_ids': [], 'contained_tags_spec': []}\n",
    "\n",
    "blank_count = 0\n",
    "\n",
    "for line in task_file_lines[task_file_lines.index('3. Opis wielokątów\\n') + blank_lines_section:]:\n",
    "    if line != '\\n':\n",
    "        str_line = line.strip('\\n').replace('[', '').replace(']', '').split(' ')\n",
    "        num_line = [int(i) for i in str_line]\n",
    "        polys_data['poly_id'].append(num_line[0])\n",
    "        polys_data['nodes_id'].append(num_line[1:])\n",
    "        blank_count = 0\n",
    "    else:\n",
    "        blank_count += 1\n",
    "    if blank_count > 1:\n",
    "        break\n",
    "\n",
    "print(polys_data)"
   ]
  },
  {
   "cell_type": "markdown",
   "metadata": {},
   "source": [
    "Stworzenie słowników do wczytania i zapisania odpowiednich danych o wierzchołkach wielokątów:"
   ]
  },
  {
   "cell_type": "code",
   "execution_count": null,
   "metadata": {},
   "outputs": [],
   "source": [
    "# dictionary for polygons' nodes data\n",
    "nodes_data = {'node_id': [], 'node_xy': []}\n",
    "\n",
    "blank_count = 0\n",
    "\n",
    "for line in task_file_lines[task_file_lines.index('4. Położenia wierzchołków wielokątów\\n') + blank_lines_section:]:\n",
    "    if line != '\\n':\n",
    "        str_line = line.strip('\\n').split(' ')\n",
    "        num_line = [float(i) for i in str_line]\n",
    "        num_line[0] = int(num_line[0])\n",
    "        nodes_data['node_id'].append(num_line[0])\n",
    "        nodes_data['node_xy'].append(tuple(num_line[1:3]))\n",
    "        blank_count = 0\n",
    "    else:\n",
    "        blank_count += 1\n",
    "    if blank_count > 1:\n",
    "        break\n",
    "\n",
    "print(nodes_data)"
   ]
  },
  {
   "cell_type": "markdown",
   "metadata": {},
   "source": [
    "# Obliczenie położenia tagów na podstawie ich odległości od anchorów"
   ]
  },
  {
   "cell_type": "markdown",
   "metadata": {},
   "source": [
    "Obliczenia te zrealizujemy tworząc uklad czterech równań nieliniowych- (równań okręgów o środku w danym anchorze i promieniu równym odległości anchora od taga) - o dwoch niewiadomych (współrzędnych x, y taga). Układ ten będzie nadokreślony (więcej równań niż niewiadomych) - nie będzie miał jednego jednoznacznego rozwiązania. Aby uzyskac satysfakcjonujące - optymalne rozwiązanie poslużymy się algorytmem Levenberga-Marquardta (służącego do optymalizacji nieliniowej). Użyjemy go stosując funkcję *least_squares* z modułu *scipy.optimize*."
   ]
  },
  {
   "cell_type": "code",
   "execution_count": null,
   "metadata": {},
   "outputs": [],
   "source": []
  },
  {
   "cell_type": "code",
   "execution_count": null,
   "metadata": {},
   "outputs": [],
   "source": [
    "def equations(X_vec, **kwargs):\n",
    "    \"\"\"\n",
    "    Calculate all equations for equations system to solve\n",
    "    \n",
    "    Parameters:\n",
    "        X_vec: vector of arguments (solutions)\n",
    "        **kwargs: anchors positions - [(x0, y0),..., (xn, yn)] and distances to anchors [d0, d1, d2, d3]\n",
    "    Returns:\n",
    "        F: vector of calculated values of equations for given X_vec arguments\n",
    "    \"\"\"\n",
    "    \n",
    "    F = []\n",
    "    for i in range(4):\n",
    "        F.append((kwargs['anchors'][i][0] - X_vec[0]) ** 2 + (kwargs['anchors'][i][1] - X_vec[1]) ** 2\n",
    "                 - kwargs['distances'][i] ** 2)\n",
    "    return np.array(F)\n",
    "\n",
    "def getTagPosition(anchors, distances):\n",
    "    \"\"\"Calculate tag position using least_squares method (Levenberg-Marquardt algorithm)\"\"\"\n",
    "    \n",
    "    # define initial solution approximation which will be beginning of algorithm iterations\n",
    "    X_vec_0 = np.array([0, 0])\n",
    "    tag_data = {'anchors': anchors, 'distances': distances}\n",
    "    result = least_squares(equations, X_vec_0, method='lm', kwargs=tag_data)\n",
    "    return tuple(result.x)"
   ]
  },
  {
   "cell_type": "markdown",
   "metadata": {},
   "source": [
    "Przeprowadzenie obliczeń i zapisanie współrzędnych wszystkich tagów i ich punktów"
   ]
  },
  {
   "cell_type": "code",
   "execution_count": null,
   "metadata": {},
   "outputs": [],
   "source": [
    "for counter1, tag_distances in enumerate(tags_data['dist_to_anchors']):\n",
    "    for counter2, tag_dist in enumerate(tag_distances):\n",
    "        if counter2 == 0:\n",
    "            tags_data['tag_xy'].append([getTagPosition(anchors_data['anchor_xy'], tag_dist)])\n",
    "        else:\n",
    "            tags_data['tag_xy'][counter1].append(getTagPosition(anchors_data['anchor_xy'], tag_dist))"
   ]
  },
  {
   "cell_type": "code",
   "execution_count": null,
   "metadata": {},
   "outputs": [],
   "source": [
    "# limits of x, y axes used to print future plots\n",
    "plot_limits = [-1.25, 1.25]\n",
    "plot_size = [12, 12]\n",
    "\n",
    "def displayTagPositionCalc(tag_id, point_num):\n",
    "    fig, ax = plt.subplots()\n",
    "    ax.figure.set_size_inches(*plot_size)\n",
    "    ax.set_xlim(-3, 3)\n",
    "    ax.set_ylim(-3, 3)\n",
    "    \n",
    "    if tag_id in tags_data['tag_id'] and point_num < len(tags_data['tag_xy'][tags_data['tag_id'].index(tag_id)]):\n",
    "        plt.scatter(*tags_data['tag_xy'][tags_data['tag_id'].index(tag_id)][point_num], s=40)\n",
    "        for i in range(len(anchors_data['anchor_id'])):\n",
    "            print(\"Odległość od {}. anchora: {}\".format(i, tags_data['dist_to_anchors']\n",
    "                                                    [tags_data['tag_id'].index(tag_id)][point_num][i]))\n",
    "            ax.add_artist(plt.Circle(anchors_data['anchor_xy'][i],\n",
    "                                     tags_data['dist_to_anchors'][tags_data['tag_id'].index(tag_id)][point_num][i],\n",
    "                                     fill=False, color='r'))\n",
    "        print(\"\\nPołożenie {}_{} taga: {}\".format(tag_id, point_num, tags_data['tag_xy'][tags_data['tag_id'].index(tag_id)][point_num]))\n",
    "    plt.show()\n",
    "    \n",
    "    \n",
    "disp_tag_posit_calc = interactive(displayTagPositionCalc,\n",
    "                                  tag_id=widgets.IntSlider(min=0,max=max(tags_data['tag_id']),step=1,value=0),\n",
    "                                  point_num=widgets.IntSlider(min=0,max=max(tags_data['tag_id']),step=1,value=0))\n",
    "display(disp_tag_posit_calc)"
   ]
  },
  {
   "cell_type": "code",
   "execution_count": null,
   "metadata": {},
   "outputs": [],
   "source": [
    "\n",
    "\n",
    "\n",
    "def displayTag(tag_id):       \n",
    "    fig, ax = plt.subplots()\n",
    "    ax.figure.set_size_inches(*plot_size)\n",
    "    ax.set_xlim(*plot_limits)\n",
    "    ax.set_ylim(*plot_limits)\n",
    "    if tag_id == -1:\n",
    "        ax.scatter(*zip(*[j for i in tags_data['tag_xy'] for j in i]))\n",
    "        # for tag_counter, tag_points in enumerate(tags_data['tag_xy']):\n",
    "        #     for tag_points_counter, tag_point in enumerate(tag_points):\n",
    "        #         print(tag_points_counter)\n",
    "        #         annotate_id = \"tag{}_{}\".format(tag_counter, tag_points_counter)\n",
    "        #         plt.annotate(annotate_id, tag_point)\n",
    "    elif tag_id in tags_data['tag_id']:\n",
    "        ax.scatter(*zip(*(tags_data['tag_xy'][tags_data['tag_id'].index(tag_id)])))\n",
    "        # for tag_points_counter, tag_point in enumerate(tags_data['tag_xy'][tags_data['tag_id'].index(tag_id)]):\n",
    "        #     annotate_id = \"tag{}-{}\".format(tag_id, tag_points_counter)\n",
    "        #     plt.annotate(annotate_id, tag_point)\n",
    "        \n",
    "    plt.show()\n",
    "    \n",
    "    if tag_id == -1:\n",
    "        for i in tags_data['tag_xy']:\n",
    "            print(i)\n",
    "    elif tag_id in tags_data['tag_id']:\n",
    "        for i in tags_data['tag_xy'][tags_data['tag_id'].index(tag_id)]:\n",
    "            print(i)\n",
    "\n",
    "    \n",
    "disp_tag_id = interactive(displayTag, tag_id=widgets.IntSlider(min=-1,max=max(tags_data['tag_id']),step=1,value=0))\n",
    "display(disp_tag_id)"
   ]
  },
  {
   "cell_type": "markdown",
   "metadata": {},
   "source": [
    "# Zbadanie czy dane tagi należą do danych wielokątów"
   ]
  },
  {
   "cell_type": "code",
   "execution_count": null,
   "metadata": {},
   "outputs": [],
   "source": [
    "def getLineEquationCoeffs(seg):\n",
    "    x1, y1 = seg[0][0], seg[0][1]\n",
    "    x2, y2 = seg[1][0], seg[1][1]\n",
    "\n",
    "    A = y2 - y1\n",
    "    B = x1 - x2\n",
    "    C = (x2 * y1) - (x1 * y2)\n",
    "\n",
    "    return A, B, C\n",
    "\n",
    "def doSegmentsIntersect(segA, segB):\n",
    "    xA_1, yA_1 = segA[0][0], segA[0][1]\n",
    "    xA_2, yA_2 = segA[1][0], segA[1][1]\n",
    "\n",
    "    xB_1, yB_1 = segB[0][0], segB[0][1]\n",
    "    xB_2, yB_2 = segB[1][0], segB[1][1]\n",
    "\n",
    "    # seg1 as inf line\n",
    "    # equation of line1 as Ax + By + C = 0\n",
    "\n",
    "    a1, b1, c1 = getLineEquationCoeffs(segA)\n",
    "\n",
    "    # check equation for values of seg2 coords\n",
    "    dB_1 = a1 * xB_1 + b1 * yB_1 + c1\n",
    "    dB_2 = a1 * xB_2 + b1 * yB_2 + c1\n",
    "\n",
    "    #if both seg2 points are on the same side of line1 - no intersection\n",
    "    if dB_1 * dB_2 > 0:\n",
    "        return False\n",
    "\n",
    "    a2, b2, c2 = getLineEquationCoeffs(segB)\n",
    "\n",
    "    dA_1 = a2 * xA_1 + b2 * yA_1 + c2\n",
    "    dA_2 = a2 * xA_2 + b2 * yA_2 + c2\n",
    "\n",
    "    if dA_1 * dA_2 > 0:\n",
    "        return False\n",
    "\n",
    "    # if segments are collinear\n",
    "    if (a1 * b2) - (a2 * b1) == 0.:\n",
    "        return False\n",
    "\n",
    "    return True"
   ]
  },
  {
   "cell_type": "code",
   "execution_count": null,
   "metadata": {},
   "outputs": [],
   "source": [
    "def isTagInPoligon(tag_xy, poly_xy):\n",
    "\n",
    "    poly_min_x, poly_max_x = min([pnt[0] for pnt in poly_xy]), max([pnt[0] for pnt in poly_xy])\n",
    "    poly_min_y, poly_max_y = min([pnt[1] for pnt in poly_xy]), max([pnt[1] for pnt in poly_xy])\n",
    "\n",
    "    # polygon bounding box check\n",
    "    if tag_xy[0] > poly_max_x or tag_xy[0] < poly_min_x:\n",
    "        return False\n",
    "    if tag_xy[1] > poly_max_y or tag_xy[1] < poly_min_y:\n",
    "        return False\n",
    "\n",
    "    # create reference point which together with tag will create segment to check intersections\n",
    "    eps = 0.2\n",
    "    refPoint = (poly_max_x + eps * abs(poly_max_x), poly_max_y + eps * abs(poly_max_y))\n",
    "    refPoints = [refPoint, (refPoint[0] + eps / 4, refPoint[1]), (refPoint[0], refPoint[1] - eps / 4),\n",
    "                 (refPoint[0] - eps / 4, refPoint[1]), (refPoint[0], refPoint[1] + eps / 4)]\n",
    "\n",
    "    # check for all reference points to make sure collinearity doesnt spoil result\n",
    "    for refPnt in refPoints:\n",
    "        tag_seg = [tag_xy, refPnt]\n",
    "        intersects_count = 0\n",
    "        for counter, poly_nod in enumerate(poly_xy):\n",
    "            poly_seg = [poly_nod, poly_xy[counter - 1]]\n",
    "\n",
    "            if doSegmentsIntersect(tag_seg, poly_seg):\n",
    "                intersects_count += 1\n",
    "\n",
    "        if intersects_count % 2 == 1:\n",
    "            return True\n",
    "        else:\n",
    "            continue\n",
    "    return False"
   ]
  },
  {
   "cell_type": "markdown",
   "metadata": {},
   "source": [
    "Zapisanie które tagi oraz które ich punkty należały do danego wielokąta"
   ]
  },
  {
   "cell_type": "code",
   "execution_count": null,
   "metadata": {},
   "outputs": [],
   "source": [
    "for poly_nodes in polys_data['nodes_id']:\n",
    "    tags_poly_contained_spec = {'tag_id': tags_data['tag_id'], 'contained_state': []}\n",
    "    tags_contained_spec = []\n",
    "\n",
    "    # create list of points of current polygon\n",
    "    poly_xy = []\n",
    "    for node_id in poly_nodes:\n",
    "        poly_xy.append(nodes_data['node_xy'][nodes_data['node_id'].index(node_id)])\n",
    "    tags_contained_ids = []\n",
    "    for tags_multi in tags_data['tag_xy']:\n",
    "        tags_contained_spec_multi = []\n",
    "        for tag in tags_multi:\n",
    "            if isTagInPoligon(tag, poly_xy):\n",
    "                tags_contained_spec_multi.append(True)\n",
    "            else:\n",
    "                tags_contained_spec_multi.append(False)\n",
    "\n",
    "        tags_poly_contained_spec['contained_state'].append(tags_contained_spec_multi)\n",
    "        if True in tags_contained_spec_multi:\n",
    "            tags_contained_ids.append(tags_data['tag_id'][tags_data['tag_xy'].index(tags_multi)])\n",
    "\n",
    "    polys_data['contained_tags_spec'].append(tags_poly_contained_spec)\n",
    "    polys_data['contained_tags_ids'].append(tags_contained_ids)\n",
    "\n",
    "print('contained_tags_spec')\n",
    "print(polys_data['contained_tags_spec'])"
   ]
  },
  {
   "cell_type": "markdown",
   "metadata": {},
   "source": [
    "Dodanie do danych o wielokątach list punktów potrzebnych do ich rysowania"
   ]
  },
  {
   "cell_type": "code",
   "execution_count": null,
   "metadata": {},
   "outputs": [],
   "source": [
    "polys_lines = []\n",
    "for poly_nodes in polys_data['nodes_id']:\n",
    "    poly_lines = []\n",
    "\n",
    "    for counter1, node_id in enumerate(poly_nodes):\n",
    "        point1 = (nodes_data['node_xy'][nodes_data['node_id'].index(node_id)])\n",
    "        point2 = (nodes_data['node_xy'][nodes_data['node_id'].index(poly_nodes[counter1 - 1])])\n",
    "        poly_line = [point1, point2]\n",
    "        poly_lines.append(poly_line)\n",
    "    polys_lines.append(poly_lines)\n",
    "polys_data['poly_lines'] = polys_lines"
   ]
  },
  {
   "cell_type": "markdown",
   "metadata": {},
   "source": [
    "Przedstawienie wielokątów"
   ]
  },
  {
   "cell_type": "code",
   "execution_count": null,
   "metadata": {},
   "outputs": [],
   "source": [
    "lc0 = LineCollection(polys_data['poly_lines'][0], colors='r')\n",
    "lc1 = LineCollection(polys_data['poly_lines'][1], colors='g', linewidths=2)\n",
    "lc2 = LineCollection(polys_data['poly_lines'][2], colors='b')\n",
    "lc3 = LineCollection(polys_data['poly_lines'][3], colors='y')\n",
    "lc4 = LineCollection(polys_data['poly_lines'][4], colors='m')\n",
    "fig, ax = plt.subplots()\n",
    "ax.set_xlim(*plot_limits)\n",
    "ax.set_ylim(*plot_limits)\n",
    "ax.add_collection(lc0); ax.add_collection(lc1); ax.add_collection(lc2); ax.add_collection(lc3); ax.add_collection(lc4)\n",
    "plt.show()"
   ]
  },
  {
   "cell_type": "markdown",
   "metadata": {},
   "source": [
    "Przedstawienie tagów:"
   ]
  },
  {
   "cell_type": "code",
   "execution_count": null,
   "metadata": {},
   "outputs": [],
   "source": [
    "def displayTagAndPolys(tag_id):       \n",
    "    lc0 = LineCollection(polys_data['poly_lines'][0], colors='r')\n",
    "    lc1 = LineCollection(polys_data['poly_lines'][1], colors='g', linewidths=2)\n",
    "    lc2 = LineCollection(polys_data['poly_lines'][2], colors='b')\n",
    "    lc3 = LineCollection(polys_data['poly_lines'][3], colors='y')\n",
    "    lc4 = LineCollection(polys_data['poly_lines'][4], colors='m')\n",
    "    fig, ax = plt.subplots()\n",
    "    ax.figure.set_size_inches(*plot_size)\n",
    "    ax.set_xlim(*plot_limits)\n",
    "    ax.set_ylim(*plot_limits)\n",
    "    ax.add_collection(lc0); ax.add_collection(lc1); ax.add_collection(lc2); ax.add_collection(lc3); ax.add_collection(lc4)\n",
    "    if tag_id == -1:\n",
    "        ax.scatter(*zip(*[j for i in tags_data['tag_xy'] for j in i]))\n",
    "    elif tag_id in tags_data['tag_id']:\n",
    "        ax.scatter(*zip(*(tags_data['tag_xy'][tags_data['tag_id'].index(tag_id)])))\n",
    "    plt.show()\n",
    "    \n",
    "disp_tagpolys_id = interactive(displayTagAndPolys, tag_id=widgets.IntSlider(min=-1,max=max(tags_data['tag_id']),step=1,value=0))\n",
    "display(disp_tagpolys_id)"
   ]
  },
  {
   "cell_type": "markdown",
   "metadata": {},
   "source": [
    "# Występowanie tagów w wielokątach"
   ]
  },
  {
   "cell_type": "markdown",
   "metadata": {},
   "source": [
    "Wyrysowanie oraz wypisanie tagów zawartych w poszczególnych wielokątach. <br>\n",
    "(wybór -1 odpowiada sytuacji wielokąta 1. z wyłączeniem pola 2.)"
   ]
  },
  {
   "cell_type": "code",
   "execution_count": null,
   "metadata": {},
   "outputs": [],
   "source": [
    "def printTagsContainedInPoly(poly_id):\n",
    "    \n",
    "    fig, ax = plt.subplots()\n",
    "    ax.figure.set_size_inches(*plot_size)\n",
    "    ax.set_xlim(*plot_limits)\n",
    "    ax.set_ylim(*plot_limits)\n",
    "    contained_points = []\n",
    "    contained_tags_ids = []\n",
    "    \n",
    "    # when we inspect area of 1 excluding 2\n",
    "    if poly_id == -1:\n",
    "        print(\"Tagi należące do wielokąta 1. z wyłączeniem obszaru 2.:\")\n",
    "        lc1 = LineCollection(polys_data['poly_lines'][1], colors='r')\n",
    "        lc2 = LineCollection(polys_data['poly_lines'][2], colors='b')\n",
    "        ax.add_collection(lc1)\n",
    "        ax.add_collection(lc2)\n",
    "        \n",
    "        for tag_counter, tag_spec in enumerate(polys_data['contained_tags_spec'][1]['contained_state']):\n",
    "            for occur_counter, tag_state in enumerate(tag_spec):\n",
    "                if tag_state is True and \\\n",
    "                        polys_data['contained_tags_spec'][2]['contained_state'][tag_counter][occur_counter] is False:\n",
    "                    contained_points.append(tags_data['tag_xy'][tag_counter][occur_counter])\n",
    "                    if polys_data['contained_tags_spec'][1]['tag_id'][tag_counter] not in contained_tags_ids:\n",
    "                        contained_tags_ids.append(polys_data['contained_tags_spec'][1]['tag_id'][tag_counter])\n",
    "        \n",
    "    # normally\n",
    "    else:\n",
    "        print(\"Tagi należące do wielokąta {}.:\".format(poly_id))\n",
    "        lc = LineCollection(polys_data['poly_lines'][poly_id], colors='r')\n",
    "        ax.add_collection(lc)\n",
    "        for tag_counter, tag_spec in enumerate(polys_data['contained_tags_spec'][poly_id]['contained_state']):\n",
    "            for occur_counter, tag_state in enumerate(tag_spec):\n",
    "                if tag_state == True:\n",
    "                    contained_points.append(tags_data['tag_xy'][tag_counter][occur_counter])\n",
    "                    if polys_data['contained_tags_spec'][poly_id]['tag_id'][tag_counter] not in contained_tags_ids:\n",
    "                        contained_tags_ids.append(polys_data['contained_tags_spec'][poly_id]['tag_id'][tag_counter])\n",
    "                        \n",
    "    print(contained_tags_ids)\n",
    "    ax.scatter(*zip(*contained_points))\n",
    "\n",
    "print_tags_contained_in_poly = interactive(printTagsContainedInPoly, poly_id=widgets.IntSlider(min=-1,max=max(polys_data['poly_id']),step=1,value=0))\n",
    "display(print_tags_contained_in_poly)"
   ]
  },
  {
   "cell_type": "markdown",
   "metadata": {},
   "source": [
    "Zapisanie danych o szczególnej ilości wystąpień poszczególnych tagów w wielokątach (dla każdego ich punktu)"
   ]
  },
  {
   "cell_type": "code",
   "execution_count": null,
   "metadata": {},
   "outputs": [],
   "source": [
    "tags_data['tag_occurance_spec'] = [[0]] * len(tags_data['tag_id'])\n",
    "for counter, occurs in enumerate(tags_data['tag_xy']):\n",
    "    tags_data['tag_occurance_spec'][counter] = [0] * len(occurs)\n",
    "\n",
    "\n",
    "for poly in polys_data['contained_tags_spec']:\n",
    "    for tag_counter, tags_spec in enumerate(poly['contained_state']):\n",
    "        for occur_counter, tag_spec in enumerate(tags_spec):\n",
    "            if tag_spec == True:\n",
    "                tags_data['tag_occurance_spec'][tag_counter][occur_counter] += 1\n",
    "print(tags_data['tag_occurance_spec'])"
   ]
  },
  {
   "cell_type": "markdown",
   "metadata": {},
   "source": [
    "Zapisanie danych o ogólnej ilości wystąpień poszczególnych tagów"
   ]
  },
  {
   "cell_type": "code",
   "execution_count": null,
   "metadata": {},
   "outputs": [],
   "source": [
    "tags_data['tag_occurances_sum'] = [0] * len(tags_data['tag_id'])\n",
    "for tag_counter, tag_occurs in enumerate(tags_data['tag_occurance_spec']):\n",
    "    for occur in tag_occurs:\n",
    "        tags_data['tag_occurances_sum'][tag_counter] += occur\n",
    "            \n",
    "print(tags_data['tag_occurance_spec'])"
   ]
  },
  {
   "cell_type": "markdown",
   "metadata": {},
   "source": [
    "Wyznaczenie najczęściej występujących tagów zawartych w wielokątach"
   ]
  },
  {
   "cell_type": "code",
   "execution_count": null,
   "metadata": {},
   "outputs": [],
   "source": [
    "most_occur_tags = [i for count, i in enumerate(tags_data['tag_id'])\n",
    "                   if tags_data['tag_occurances_sum'][count] == max(tags_data['tag_occurances_sum'])]\n",
    "print(\"Tago z największą ilością wystąpień w wielokątach (tag_id): {}\".format(most_occur_tags))"
   ]
  },
  {
   "cell_type": "markdown",
   "metadata": {},
   "source": [
    "Obliczenie ilości występowania punktów i tagów nie zawartych w żadnym wielokącie"
   ]
  },
  {
   "cell_type": "code",
   "execution_count": null,
   "metadata": {},
   "outputs": [],
   "source": [
    "blank_tags = {'blank_points_num': 0, 'blank_tags_num': 0, 'fully_blank_tags_num': 0}\n",
    "for tag_counter, tag_occurs in enumerate(tags_data['tag_occurance_spec']):\n",
    "    blank_tag_check_state = False\n",
    "    for occur in tag_occurs:\n",
    "        if occur == 0:\n",
    "            blank_tags['blank_points_num'] += 1\n",
    "            if blank_tag_check_state == False:\n",
    "                blank_tags['blank_tags_num'] += 1\n",
    "                blank_tag_check_state = True\n",
    "blank_tags['fully_blank_tags_num'] = tags_data['tag_occurances_sum'].count(0)\n",
    "print(\"{}\\tilość punktów nie zawarta w żadnym wielokącie\".format(blank_tags['blank_points_num']))\n",
    "print(\"{}\\tilość tagów nie zawarta w żadnym wielokącie co najmniej raz\".format(blank_tags['blank_tags_num']))\n",
    "print(\"{}\\tilość tagów nigdy nie zawarta w wielokącie\".format(blank_tags['fully_blank_tags_num']))"
   ]
  }
 ],
 "metadata": {
  "kernelspec": {
   "display_name": "Python 2",
   "language": "python",
   "name": "python2"
  },
  "language_info": {
   "codemirror_mode": {
    "name": "ipython",
    "version": 2
   },
   "file_extension": ".py",
   "mimetype": "text/x-python",
   "name": "python",
   "nbconvert_exporter": "python",
   "pygments_lexer": "ipython2",
   "version": "2.7.6"
  }
 },
 "nbformat": 4,
 "nbformat_minor": 0
}
